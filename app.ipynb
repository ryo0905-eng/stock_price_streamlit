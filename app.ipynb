{
 "cells": [
  {
   "cell_type": "code",
   "execution_count": 1,
   "metadata": {},
   "outputs": [
    {
     "name": "stdout",
     "output_type": "stream",
     "text": [
      "Overwriting app.py\n"
     ]
    }
   ],
   "source": [
    "%%writefile app.py\n",
    "\n",
    "import yfinance as yf\n",
    "import pandas as pd\n",
    "import plotly.express as px\n",
    "import plotly.graph_objects as go\n",
    "import streamlit as st\n",
    "import matplotlib.pyplot as plt\n",
    "from pycaret.time_series import *\n",
    "\n",
    "# キャッシュをクリア\n",
    "st.cache_resource.clear()\n",
    "\n",
    "# タイトル\n",
    "st.title('S&P500 Stock price predictions')\n",
    "\n",
    "# S&P500のデータを取得\n",
    "ticker = \"^GSPC\"\n",
    "data = yf.download(tickers=ticker, start=\"2020-01-01\", end=\"2024-12-31\", multi_level_index=False)\n",
    "\n",
    "# datetime形式に変換\n",
    "data.index = pd.to_datetime(data.index)\n",
    "\n",
    "# 欠損値は直前の値で補完\n",
    "data = data.asfreq('D', method='bfill')\n",
    "\n",
    "# データの確認\n",
    "st.write('データの先頭5行を表示')\n",
    "st.write(data.head())\n",
    "\n",
    "# 予測に使わない特徴量を指定\n",
    "ignore_features = ['High', 'Low', 'Open', 'Volume']\n",
    "\n",
    "if st.button('Setup Model'):\n",
    "    # モデルのセットアップ\n",
    "    s = setup(data, fh = 30, fold = 5, session_id = 123, target='Close', ignore_features=ignore_features)\n",
    "\n",
    "    #　モデルを作成\n",
    "    arima = create_model('arima')\n",
    "\n",
    "    # 交差検証結果を表示\n",
    "    #arima_results = pull()\n",
    "    #st.write('交差検証結果')\n",
    "    #st.write(arima_results)\n",
    "\n",
    "    # 予測\n",
    "    pred = predict_model(arima)\n",
    "\n",
    "    # Datetime形式に変換\n",
    "    pred.index = pred.index.to_timestamp()\n",
    "    pred.head()\n",
    "\n",
    "    # 実際の値をプロット\n",
    "    fig = px.line(data, x=data.index, y='Close', title='S&P500 Stock price predictions')\n",
    "\n",
    "    # 予測値をプロット\n",
    "    predicted_trace = go.Scatter(x=pred.index, y=pred['y_pred'], mode='lines', name='Predicted')\n",
    "    fig.add_trace(predicted_trace)\n",
    "\n",
    "    # 色を変更\n",
    "    fig.update_traces(line_color='red', selector=dict(name='Predicted'))\n",
    "\n",
    "    # グラフを表示\n",
    "    st.plotly_chart(fig)"
   ]
  },
  {
   "cell_type": "code",
   "execution_count": null,
   "metadata": {},
   "outputs": [],
   "source": []
  }
 ],
 "metadata": {
  "kernelspec": {
   "display_name": ".venv",
   "language": "python",
   "name": "python3"
  },
  "language_info": {
   "codemirror_mode": {
    "name": "ipython",
    "version": 3
   },
   "file_extension": ".py",
   "mimetype": "text/x-python",
   "name": "python",
   "nbconvert_exporter": "python",
   "pygments_lexer": "ipython3",
   "version": "3.10.14"
  }
 },
 "nbformat": 4,
 "nbformat_minor": 2
}
